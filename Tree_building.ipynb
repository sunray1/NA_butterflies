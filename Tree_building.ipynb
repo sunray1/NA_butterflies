{
 "cells": [
  {
   "cell_type": "markdown",
   "metadata": {},
   "source": [
    "## Aligning Seqs"
   ]
  },
  {
   "cell_type": "markdown",
   "metadata": {},
   "source": [
    "To find database: https://docs.google.com/spreadsheets/d/1MTQ-l6iXcq2CEISE8F-nDvjoXbQ799eBYsa6-pZxbTs/edit#gid=0\n",
    "\n",
    "Plate database: https://drive.google.com/drive/u/3/folders/1uQn14tyI5O_PCzgHg2fP8fFJ_4uvP_pd\n",
    "\n",
    "Molecular database: https://docs.google.com/spreadsheets/d/1nNMlgCTHWKnx1xHah86JIOvWjd1yJcrY3jzHjT23H9I/edit#gid=552525726"
   ]
  },
  {
   "cell_type": "code",
   "execution_count": 17,
   "metadata": {},
   "outputs": [],
   "source": [
    "mkdir Tree_building\n",
    "cp BOLD/BOLD_seqs/align_files/aligned_files/final_align/* Tree_building\n",
    "cp ButterflyNet/NA_sequences/aligned_files/aligned_and_threshold/* Tree_building\n",
    "cp GenBank/GeneDumper/GI_outputs/align_seqs/aligned_files/final_align/final_align/final_valid/* Tree_building"
   ]
  },
  {
   "cell_type": "code",
   "execution_count": 18,
   "metadata": {},
   "outputs": [],
   "source": [
    "cd Tree_building"
   ]
  },
  {
   "cell_type": "markdown",
   "metadata": {},
   "source": [
    "First to remove subspecies names from the BOLD sequences"
   ]
  },
  {
   "cell_type": "code",
   "execution_count": 19,
   "metadata": {},
   "outputs": [],
   "source": [
    "sed -r -i 's/>([A-Z]([a-z])+_([a-z])+)_([a-z])+/>\\1/g' *BOLD.fas"
   ]
  },
  {
   "cell_type": "markdown",
   "metadata": {},
   "source": [
    "Next we have to align all loci together"
   ]
  },
  {
   "cell_type": "code",
   "execution_count": 9,
   "metadata": {},
   "outputs": [],
   "source": [
    "mkdir cat_loci\n",
    "mafft --maxiterate 1000 --localpair --thread 4 --quiet --add ArgKin_BOLD.fas ArgKin_GB.fas > cat_loci/ArgKin_all.fas"
   ]
  },
  {
   "cell_type": "markdown",
   "metadata": {},
   "source": [
    "I did this using the mafft command above and then I messed around with a makefile to do it"
   ]
  },
  {
   "cell_type": "code",
   "execution_count": 3,
   "metadata": {},
   "outputs": [
    {
     "name": "stdout",
     "output_type": "stream",
     "text": [
      ".PHONY: all\n",
      "\n",
      "all: cat_loci/Wgl_all.fas\n",
      "\n",
      "Wgl_BOLD_GB.fas:\n",
      "\tmafft --maxiterate 1000 --localpair --thread 4 --adjustdirection --quiet --add Wgl_BOLD.fas Wgl_GB.fas > Wgl_BOLD_GB.fas\n",
      "\n",
      "cat_loci/Wgl_all.fas: Wgl_BOLD_GB.fas\n",
      "\tmafft --maxiterate 1000 --localpair --thread 4 --adjustdirection --quiet --add WGL_BN.fa Wgl_BOLD_GB.fas > cat_loci/Wgl_all.fas\n"
     ]
    }
   ],
   "source": [
    "head makefile"
   ]
  },
  {
   "cell_type": "markdown",
   "metadata": {},
   "source": [
    "Now I'm going through them individually to clean flanking regions and making sure they are in the correct reading frame"
   ]
  },
  {
   "cell_type": "markdown",
   "metadata": {},
   "source": [
    "Side note - I made a quick tree of CAD and everything fell out perfectly!"
   ]
  },
  {
   "cell_type": "markdown",
   "metadata": {},
   "source": [
    "Now we need to rename everything and then remove duplicates"
   ]
  },
  {
   "cell_type": "code",
   "execution_count": 6,
   "metadata": {},
   "outputs": [],
   "source": [
    "cd cat_loci"
   ]
  },
  {
   "cell_type": "code",
   "execution_count": 7,
   "metadata": {},
   "outputs": [
    {
     "name": "stdout",
     "output_type": "stream",
     "text": [
      "sed: cannot rename ./sed7shNqg: Permission denied\n"
     ]
    }
   ],
   "source": [
    "for i in *.fas; do sed -i 's/_R_//g' $i; done"
   ]
  },
  {
   "cell_type": "code",
   "execution_count": null,
   "metadata": {},
   "outputs": [],
   "source": [
    "for i in *.fas; do ./add_family.py $i NAButterflies_wsyns_2.db; done"
   ]
  },
  {
   "cell_type": "markdown",
   "metadata": {},
   "source": [
    "I edited the dups_merge script to be used for already aligned files and am running it with 95% or more identity"
   ]
  },
  {
   "cell_type": "code",
   "execution_count": 9,
   "metadata": {},
   "outputs": [],
   "source": [
    "for i in *_renamed.fa; do ./overlap_dups.py $i; done"
   ]
  },
  {
   "cell_type": "markdown",
   "metadata": {},
   "source": [
    "Next I am going through them by hand to look at the sequences that did not merge and choosing the best sequence(depending on the sequences, i would merge them or blast them if they didn't look similar)"
   ]
  },
  {
   "cell_type": "markdown",
   "metadata": {},
   "source": [
    "I also made trees from some of them and tried to fix the long branches. COI_not_correct has COI seqs that are long but I wasn't sure what was wrong"
   ]
  },
  {
   "cell_type": "code",
   "execution_count": 10,
   "metadata": {},
   "outputs": [],
   "source": [
    "mkdir merged_seqs\n",
    "mv *_dupsmerge.fas merged_seqs"
   ]
  },
  {
   "cell_type": "code",
   "execution_count": 11,
   "metadata": {},
   "outputs": [],
   "source": [
    "cd merged_seqs"
   ]
  },
  {
   "cell_type": "code",
   "execution_count": 12,
   "metadata": {},
   "outputs": [
    {
     "name": "stdout",
     "output_type": "stream",
     "text": [
      "\n",
      "        ------------------------------------------------------------\n",
      "                        Welcome to FASconCAT-G v1.0 !\n",
      "                   A perlscript for sequence concatenation\n",
      "              written by Patrick Kueck (ZFMK Bonn, 2010/14)\n",
      "        ------------------------------------------------------------\n",
      "\n",
      "\n",
      "\n",
      "\t#### FASconCAT-G: START ! ####\n",
      "\t------------------------------------------------------------\n",
      "\n",
      "\n",
      "\tREAD IN ArgKin_all_renamed_dupsmerge.fas\n",
      "\t!FILE-INFO!: Infile ArgKin_all_renamed_dupsmerge.fas identified as NUC data set !\n",
      "\n",
      "\tREAD IN CAD_all_renamed_dupsmerge.fas\n",
      "\t!FILE-INFO!: Infile CAD_all_renamed_dupsmerge.fas identified as NUC data set !\n",
      "\n",
      "\tREAD IN CAT_all_renamed_dupsmerge.fas\n",
      "\t!FILE-INFO!: Infile CAT_all_renamed_dupsmerge.fas identified as NUC data set !\n",
      "\n",
      "\tREAD IN COI_trnL_COII_all_use_me_renamed_dupsmerge.fas\n",
      "\t!FILE-INFO!: Infile COI_trnL_COII_all_use_me_renamed_dupsmerge.fas identified as NUC data set !\n",
      "\n",
      "\tREAD IN CoA_all_renamed_dupsmerge.fas\n",
      "\t!FILE-INFO!: Infile CoA_all_renamed_dupsmerge.fas identified as NUC data set !\n",
      "\n",
      "\tREAD IN DDC_all_renamed_dupsmerge.fas\n",
      "\t!FILE-INFO!: Infile DDC_all_renamed_dupsmerge.fas identified as NUC data set !\n",
      "\n",
      "\tREAD IN Ef-1a_all_renamed_dupsmerge.fas\n",
      "\t!FILE-INFO!: Infile Ef-1a_all_renamed_dupsmerge.fas identified as NUC data set !\n",
      "\n",
      "\tREAD IN GAPDH_all_renamed_dupsmerge.fas\n",
      "\t!FILE-INFO!: Infile GAPDH_all_renamed_dupsmerge.fas identified as NUC data set !\n",
      "\n",
      "\tREAD IN HCL_all_renamed_dupsmerge.fas\n",
      "\t!FILE-INFO!: Infile HCL_all_renamed_dupsmerge.fas identified as NUC data set !\n",
      "\n",
      "\tREAD IN IDH_all_renamed_dupsmerge.fas\n",
      "\t!FILE-INFO!: Infile IDH_all_renamed_dupsmerge.fas identified as NUC data set !\n",
      "\n",
      "\tREAD IN MDH_all_renamed_dupsmerge.fas\n",
      "\t!FILE-INFO!: Infile MDH_all_renamed_dupsmerge.fas identified as NUC data set !\n",
      "\n",
      "\tREAD IN RpS2_all_renamed_dupsmerge.fas\n",
      "\t!FILE-INFO!: Infile RpS2_all_renamed_dupsmerge.fas identified as NUC data set !\n",
      "\n",
      "\tREAD IN RpS5_all_renamed_dupsmerge.fas\n",
      "\t!FILE-INFO!: Infile RpS5_all_renamed_dupsmerge.fas identified as NUC data set !\n",
      "\n",
      "\tREAD IN Wgl_all_renamed_dupsmerge.fas\n",
      "\t!FILE-INFO!: Infile Wgl_all_renamed_dupsmerge.fas identified as NUC data set !\n",
      "\n",
      "\tConcatenate Ef-1a_all_renamed_dupsmerge.fas...\n",
      "\tConcatenate GAPDH_all_renamed_dupsmerge.fas...\n",
      "\tConcatenate IDH_all_renamed_dupsmerge.fas...\n",
      "\tConcatenate RpS5_all_renamed_dupsmerge.fas...\n",
      "\tConcatenate RpS2_all_renamed_dupsmerge.fas...\n",
      "\tConcatenate CAD_all_renamed_dupsmerge.fas...\n",
      "\tConcatenate ArgKin_all_renamed_dupsmerge.fas...\n",
      "\tConcatenate HCL_all_renamed_dupsmerge.fas...\n",
      "\tConcatenate CoA_all_renamed_dupsmerge.fas...\n",
      "\tConcatenate COI_trnL_COII_all_use_me_renamed_dupsmerge.fas...\n",
      "\tConcatenate CAT_all_renamed_dupsmerge.fas...\n",
      "\tConcatenate DDC_all_renamed_dupsmerge.fas...\n",
      "\tConcatenate Wgl_all_renamed_dupsmerge.fas...\n",
      "\tConcatenate MDH_all_renamed_dupsmerge.fas...\n",
      "\n",
      "\tSupermatrix Site Range Of File...\n",
      "\tArgKin_all_renamed_dupsmerge:\tSite Pos.6629 to 7207\n",
      "\tCAD_all_renamed_dupsmerge:\tSite Pos.4561 to 6628\n",
      "\tCAT_all_renamed_dupsmerge:\tSite Pos.11231 to 12697\n",
      "\tCOI_trnL_COII_all_use_me_renamed_dupsmerge:\tSite Pos.9053 to 11230\n",
      "\tCoA_all_renamed_dupsmerge:\tSite Pos.8024 to 9052\n",
      "\tDDC_all_renamed_dupsmerge:\tSite Pos.12698 to 13399\n",
      "\tEf-1a_all_renamed_dupsmerge:\tSite Pos.1 to 1533\n",
      "\tGAPDH_all_renamed_dupsmerge:\tSite Pos.1534 to 2391\n",
      "\tHCL_all_renamed_dupsmerge:\tSite Pos.7208 to 8023\n",
      "\tIDH_all_renamed_dupsmerge:\tSite Pos.2392 to 3336\n",
      "\tMDH_all_renamed_dupsmerge:\tSite Pos.13937 to 14932\n",
      "\tRpS2_all_renamed_dupsmerge:\tSite Pos.3925 to 4560\n",
      "\tRpS5_all_renamed_dupsmerge:\tSite Pos.3337 to 3924\n",
      "\tWgl_all_renamed_dupsmerge:\tSite Pos.13400 to 13936\n",
      "\t\n",
      "\tPercent Missing Data (X or ?) Of File...\n",
      "\tArgKin_all_renamed_dupsmerge:\t0%\n",
      "\tCAD_all_renamed_dupsmerge:\t0%\n",
      "\tCAT_all_renamed_dupsmerge:\t0%\n",
      "\tCOI_trnL_COII_all_use_me_renamed_dupsmerge:\t0%\n",
      "\tCoA_all_renamed_dupsmerge:\t0%\n",
      "\tDDC_all_renamed_dupsmerge:\t0%\n",
      "\tEf-1a_all_renamed_dupsmerge:\t0%\n",
      "\tGAPDH_all_renamed_dupsmerge:\t0%\n",
      "\tHCL_all_renamed_dupsmerge:\t0%\n",
      "\tIDH_all_renamed_dupsmerge:\t0%\n",
      "\tMDH_all_renamed_dupsmerge:\t0%\n",
      "\tRpS2_all_renamed_dupsmerge:\t0%\n",
      "\tRpS5_all_renamed_dupsmerge:\t0%\n",
      "\tWgl_all_renamed_dupsmerge:\t0%\n",
      "\tSupermatrix:\t0%\n",
      "\n",
      "\tSEQUENCE Concatenation Process:\n",
      "\tConcatenated Supermatrix FILE Printed As FcC_supermatrix.fas\n",
      "\n",
      "\tFILE INFO Print OUT:\n",
      "\tExtensive SEQUENCE Info Of Supermatrix Printed To FcC_info.xls\n",
      "\tExtensive SEQUENCE Info Of INFILES Printed To FcC_info.xls\n",
      "\t\t\n",
      "\t\t\t***  time used: 92.25 sec  ***\n",
      "\t\t\n",
      "\t------------------------------------------------------------\n",
      "\t#### FASconCAT Log Off ! ####\n",
      "\n"
     ]
    }
   ],
   "source": [
    "perl FASconCAT-G_v1.02.pl -s "
   ]
  }
 ],
 "metadata": {
  "kernelspec": {
   "display_name": "Bash",
   "language": "bash",
   "name": "bash"
  },
  "language_info": {
   "codemirror_mode": "shell",
   "file_extension": ".sh",
   "mimetype": "text/x-sh",
   "name": "bash"
  }
 },
 "nbformat": 4,
 "nbformat_minor": 2
}
